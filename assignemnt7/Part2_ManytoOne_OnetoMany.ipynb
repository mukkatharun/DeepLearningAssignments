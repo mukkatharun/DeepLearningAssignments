{
  "nbformat": 4,
  "nbformat_minor": 0,
  "metadata": {
    "colab": {
      "name": "Part2_ManytoOne_OnetoMany.ipynb",
      "provenance": [],
      "authorship_tag": "ABX9TyPoo/gLbynUaOPUAt5sle4r",
      "include_colab_link": true
    },
    "kernelspec": {
      "name": "python3",
      "display_name": "Python 3"
    },
    "language_info": {
      "name": "python"
    }
  },
  "cells": [
    {
      "cell_type": "markdown",
      "metadata": {
        "id": "view-in-github",
        "colab_type": "text"
      },
      "source": [
        "<a href=\"https://colab.research.google.com/github/mukkatharun/DeepLearningAssignments/blob/main/assignemnt7/Part2_ManytoOne_OnetoMany.ipynb\" target=\"_parent\"><img src=\"https://colab.research.google.com/assets/colab-badge.svg\" alt=\"Open In Colab\"/></a>"
      ]
    },
    {
      "cell_type": "markdown",
      "source": [
        "RNN Many to One"
      ],
      "metadata": {
        "id": "eGUl5bh05N9R"
      }
    },
    {
      "cell_type": "code",
      "execution_count": null,
      "metadata": {
        "colab": {
          "base_uri": "https://localhost:8080/"
        },
        "id": "vHd5l5tY5J8i",
        "outputId": "b10cda49-667c-42c0-ebee-31bf7f0cbb4f"
      },
      "outputs": [
        {
          "output_type": "stream",
          "name": "stdout",
          "text": [
            "Tensorflow: 2.8.0\n"
          ]
        }
      ],
      "source": [
        "import tensorflow as tf\n",
        "import numpy as np\n",
        "import matplotlib.pyplot as plt\n",
        "import pandas as pd\n",
        "\n",
        "print('Tensorflow: {}'.format(tf.__version__))\n",
        "\n",
        "plt.rcParams['figure.figsize'] = (16, 10)\n",
        "plt.rc('font', size=15)"
      ]
    },
    {
      "cell_type": "code",
      "source": [
        "words = ['good', 'bad', 'worse', 'so good']\n",
        "y = [1, 0, 0, 1]"
      ],
      "metadata": {
        "id": "Dbejjy2C5L_l"
      },
      "execution_count": null,
      "outputs": []
    },
    {
      "cell_type": "code",
      "source": [
        "char_set = ['<pad>'] + sorted(list(set(''.join(words))))\n",
        "idx2char = {idx:char for idx, char in enumerate(char_set)}\n",
        "char2idx = {char:idx for idx, char in enumerate(char_set)}"
      ],
      "metadata": {
        "id": "21WtWVl35Q8u"
      },
      "execution_count": null,
      "outputs": []
    },
    {
      "cell_type": "code",
      "source": [
        "char_set"
      ],
      "metadata": {
        "colab": {
          "base_uri": "https://localhost:8080/"
        },
        "id": "peSsIDRu5TAU",
        "outputId": "ebd052da-50c5-460c-fbb8-a6c952588e83"
      },
      "execution_count": null,
      "outputs": [
        {
          "output_type": "execute_result",
          "data": {
            "text/plain": [
              "['<pad>', ' ', 'a', 'b', 'd', 'e', 'g', 'o', 'r', 's', 'w']"
            ]
          },
          "metadata": {},
          "execution_count": 4
        }
      ]
    },
    {
      "cell_type": "code",
      "source": [
        "idx2char"
      ],
      "metadata": {
        "colab": {
          "base_uri": "https://localhost:8080/"
        },
        "id": "ODvNXdaO5T6g",
        "outputId": "97bdfcb2-f4df-491a-e4e5-7bbe5fd01cc6"
      },
      "execution_count": null,
      "outputs": [
        {
          "output_type": "execute_result",
          "data": {
            "text/plain": [
              "{0: '<pad>',\n",
              " 1: ' ',\n",
              " 2: 'a',\n",
              " 3: 'b',\n",
              " 4: 'd',\n",
              " 5: 'e',\n",
              " 6: 'g',\n",
              " 7: 'o',\n",
              " 8: 'r',\n",
              " 9: 's',\n",
              " 10: 'w'}"
            ]
          },
          "metadata": {},
          "execution_count": 5
        }
      ]
    },
    {
      "cell_type": "code",
      "source": [
        "char2idx"
      ],
      "metadata": {
        "colab": {
          "base_uri": "https://localhost:8080/"
        },
        "id": "O4qqvJmn5Uwb",
        "outputId": "33362503-1ce5-40b6-d8a5-36cef220e9ab"
      },
      "execution_count": null,
      "outputs": [
        {
          "output_type": "execute_result",
          "data": {
            "text/plain": [
              "{' ': 1,\n",
              " '<pad>': 0,\n",
              " 'a': 2,\n",
              " 'b': 3,\n",
              " 'd': 4,\n",
              " 'e': 5,\n",
              " 'g': 6,\n",
              " 'o': 7,\n",
              " 'r': 8,\n",
              " 's': 9,\n",
              " 'w': 10}"
            ]
          },
          "metadata": {},
          "execution_count": 6
        }
      ]
    },
    {
      "cell_type": "code",
      "source": [
        "X = list(map(lambda word: [char2idx.get(char) for char in word], words))\n",
        "X_len = list(map(lambda word: len(word), X))"
      ],
      "metadata": {
        "id": "zPviDquh5Vl7"
      },
      "execution_count": null,
      "outputs": []
    },
    {
      "cell_type": "code",
      "source": [
        "from tensorflow.keras.preprocessing.sequence import pad_sequences\n",
        "\n",
        "# Padding the sequence of indices\n",
        "max_sequence=10\n",
        "\n",
        "X = pad_sequences(X, maxlen=max_sequence, padding='post', truncating='post')\n"
      ],
      "metadata": {
        "id": "V0Pgpj5Z5Wme"
      },
      "execution_count": null,
      "outputs": []
    },
    {
      "cell_type": "code",
      "source": [
        "# Generate data pipeline\n",
        "train_ds = tf.data.Dataset.from_tensor_slices((X, y)).shuffle(buffer_size=4).batch(batch_size=2)\n",
        "print(train_ds)"
      ],
      "metadata": {
        "colab": {
          "base_uri": "https://localhost:8080/"
        },
        "id": "_s6xY_Im5YyW",
        "outputId": "8fad9576-743a-4247-8884-1ebabf7a9702"
      },
      "execution_count": null,
      "outputs": [
        {
          "output_type": "stream",
          "name": "stdout",
          "text": [
            "<BatchDataset element_spec=(TensorSpec(shape=(None, 10), dtype=tf.int32, name=None), TensorSpec(shape=(None,), dtype=tf.int32, name=None))>\n"
          ]
        }
      ]
    },
    {
      "cell_type": "code",
      "source": [
        "input_dim = len(char2idx)\n",
        "output_dim = len(char2idx)"
      ],
      "metadata": {
        "id": "5GCVJvkb5aFp"
      },
      "execution_count": null,
      "outputs": []
    },
    {
      "cell_type": "code",
      "source": [
        "from tensorflow.keras.models import Sequential\n",
        "from tensorflow.keras.layers import Embedding, SimpleRNN, Dense\n",
        "\n",
        "model = Sequential([\n",
        "    Embedding(input_dim=input_dim, output_dim=output_dim,\n",
        "              mask_zero=True, input_length=max_sequence,\n",
        "              trainable=False, embeddings_initializer=tf.keras.initializers.random_normal()),\n",
        "    SimpleRNN(units=10),\n",
        "    Dense(2)\n",
        "])\n",
        "\n",
        "model.summary()"
      ],
      "metadata": {
        "colab": {
          "base_uri": "https://localhost:8080/"
        },
        "id": "25wvJVWz5a9r",
        "outputId": "9b9a5cbb-743e-49c3-ce29-34223c0cff39"
      },
      "execution_count": null,
      "outputs": [
        {
          "output_type": "stream",
          "name": "stdout",
          "text": [
            "Model: \"sequential\"\n",
            "_________________________________________________________________\n",
            " Layer (type)                Output Shape              Param #   \n",
            "=================================================================\n",
            " embedding (Embedding)       (None, 10, 11)            121       \n",
            "                                                                 \n",
            " simple_rnn (SimpleRNN)      (None, 10)                220       \n",
            "                                                                 \n",
            " dense (Dense)               (None, 2)                 22        \n",
            "                                                                 \n",
            "=================================================================\n",
            "Total params: 363\n",
            "Trainable params: 242\n",
            "Non-trainable params: 121\n",
            "_________________________________________________________________\n"
          ]
        }
      ]
    },
    {
      "cell_type": "code",
      "source": [
        "def loss_fn(model, X, y):\n",
        "    return tf.reduce_mean(tf.keras.losses.sparse_categorical_crossentropy(y_true=y, \n",
        "                                                                          y_pred=model(X), \n",
        "                                                                          from_logits=True))\n",
        "\n",
        "optimizer = tf.keras.optimizers.Adam(learning_rate=0.01)"
      ],
      "metadata": {
        "id": "V3Ij0HSH5cAJ"
      },
      "execution_count": null,
      "outputs": []
    },
    {
      "cell_type": "code",
      "source": [
        "tr_loss_hist = []\n",
        "\n",
        "for e in range(30):\n",
        "    avg_tr_loss = 0\n",
        "    tr_step = 0\n",
        "    \n",
        "    for x_mb, y_mb in train_ds:\n",
        "        with tf.GradientTape() as tape:\n",
        "            tr_loss = loss_fn(model, x_mb, y_mb)\n",
        "            \n",
        "        grads = tape.gradient(tr_loss, sources=model.variables)\n",
        "        optimizer.apply_gradients(grads_and_vars=zip(grads, model.variables))\n",
        "        avg_tr_loss += tr_loss\n",
        "        tr_step += 1\n",
        "    \n",
        "    avg_tr_loss /= tr_step\n",
        "    tr_loss_hist.append(avg_tr_loss)\n",
        "    \n",
        "    if (e + 1) % 5 == 0:\n",
        "        print('epoch: {:3}, tr_loss: {:3f}'.format(e + 1, avg_tr_loss))"
      ],
      "metadata": {
        "colab": {
          "base_uri": "https://localhost:8080/"
        },
        "id": "kCxWU0iC5dQS",
        "outputId": "1463dc9d-2229-4dc6-e6c1-ba6bca6c8d0a"
      },
      "execution_count": null,
      "outputs": [
        {
          "output_type": "stream",
          "name": "stdout",
          "text": [
            "epoch:   5, tr_loss: 0.093991\n",
            "epoch:  10, tr_loss: 0.006448\n",
            "epoch:  15, tr_loss: 0.002240\n",
            "epoch:  20, tr_loss: 0.001365\n",
            "epoch:  25, tr_loss: 0.001042\n",
            "epoch:  30, tr_loss: 0.000871\n"
          ]
        }
      ]
    },
    {
      "cell_type": "code",
      "source": [
        "y_pred = model.predict(X)\n",
        "y_pred = np.argmax(y_pred, axis=-1)"
      ],
      "metadata": {
        "id": "Xm7r6kXu5eZt"
      },
      "execution_count": null,
      "outputs": []
    },
    {
      "cell_type": "code",
      "source": [
        "print('acc: {:.2%}'.format(np.mean(y_pred == y)))"
      ],
      "metadata": {
        "colab": {
          "base_uri": "https://localhost:8080/"
        },
        "id": "xEj_HLne5fUX",
        "outputId": "c314880c-e1f2-494b-cc6b-ae8909aeb04f"
      },
      "execution_count": null,
      "outputs": [
        {
          "output_type": "stream",
          "name": "stdout",
          "text": [
            "acc: 100.00%\n"
          ]
        }
      ]
    },
    {
      "cell_type": "code",
      "source": [
        "plt.figure()\n",
        "plt.plot(tr_loss_hist)\n",
        "plt.show()"
      ],
      "metadata": {
        "colab": {
          "base_uri": "https://localhost:8080/",
          "height": 265
        },
        "id": "12LTe40G5g2B",
        "outputId": "c217aebe-6e10-4aa8-f008-c3a8ff3dfb3b"
      },
      "execution_count": null,
      "outputs": [
        {
          "output_type": "display_data",
          "data": {
            "text/plain": [
              "<Figure size 432x288 with 1 Axes>"
            ],
            "image/png": "[encoded data removed]"
          },
          "metadata": {
            "needs_background": "light"
          }
        }
      ]
    },
    {
      "cell_type": "markdown",
      "source": [
        "RNN Many To Many\n",
        "\n",
        "Parts of Speech Tagging"
      ],
      "metadata": {
        "id": "6FPE01Lu5jCg"
      }
    },
    {
      "cell_type": "code",
      "source": [
        "sentences = [['I', 'feel', 'hungry'],\n",
        "             ['tensorflow', 'is', 'very', 'difficult'],\n",
        "             ['tensorflow', 'is', 'a', 'framework', 'for', 'deep', 'learning'],\n",
        "             ['tensorflow', 'is', 'very', 'fast', 'changing']]\n",
        "\n",
        "pos = [['pronoun', 'verb', 'adjective'], \n",
        "       ['noun', 'verb', 'adverb', 'adjective'],\n",
        "       ['noun', 'verb', 'determiner', 'noun', 'preposition', 'adjective', 'noun'],\n",
        "       ['noun', 'verb', 'adverb', 'adjective', 'verb']]"
      ],
      "metadata": {
        "id": "L4wMoboX5hyP"
      },
      "execution_count": null,
      "outputs": []
    },
    {
      "cell_type": "code",
      "source": [
        "word_list =['<pad>'] + sorted(set(sum(sentences, []))) \n",
        "word2idx = {word:idx for idx, word in enumerate(word_list)}\n",
        "idx2word = {idx:word for idx, word in enumerate(word_list)}\n",
        "\n",
        "print(word_list)\n",
        "print(word2idx)\n",
        "print(idx2word)"
      ],
      "metadata": {
        "colab": {
          "base_uri": "https://localhost:8080/"
        },
        "id": "laesE1Rq5mQq",
        "outputId": "0330ffe2-be09-4abb-d27d-0fe9cc0dce5b"
      },
      "execution_count": null,
      "outputs": [
        {
          "output_type": "stream",
          "name": "stdout",
          "text": [
            "['<pad>', 'I', 'a', 'changing', 'deep', 'difficult', 'fast', 'feel', 'for', 'framework', 'hungry', 'is', 'learning', 'tensorflow', 'very']\n",
            "{'<pad>': 0, 'I': 1, 'a': 2, 'changing': 3, 'deep': 4, 'difficult': 5, 'fast': 6, 'feel': 7, 'for': 8, 'framework': 9, 'hungry': 10, 'is': 11, 'learning': 12, 'tensorflow': 13, 'very': 14}\n",
            "{0: '<pad>', 1: 'I', 2: 'a', 3: 'changing', 4: 'deep', 5: 'difficult', 6: 'fast', 7: 'feel', 8: 'for', 9: 'framework', 10: 'hungry', 11: 'is', 12: 'learning', 13: 'tensorflow', 14: 'very'}\n"
          ]
        }
      ]
    },
    {
      "cell_type": "code",
      "source": [
        "pos_list = ['<pad>'] + sorted(set(sum(pos, [])))\n",
        "pos2idx = {pos:idx for idx, pos in enumerate(pos_list)}\n",
        "idx2pos = {idx:pos for idx, pos in enumerate(pos_list)}\n",
        "\n",
        "print(pos_list)\n",
        "print(pos2idx)\n",
        "print(idx2pos)"
      ],
      "metadata": {
        "colab": {
          "base_uri": "https://localhost:8080/"
        },
        "id": "Muo2W9NI5st5",
        "outputId": "9ae2a12f-1b85-4c78-ca25-978ac0c1fac3"
      },
      "execution_count": null,
      "outputs": [
        {
          "output_type": "stream",
          "name": "stdout",
          "text": [
            "['<pad>', 'adjective', 'adverb', 'determiner', 'noun', 'preposition', 'pronoun', 'verb']\n",
            "{'<pad>': 0, 'adjective': 1, 'adverb': 2, 'determiner': 3, 'noun': 4, 'preposition': 5, 'pronoun': 6, 'verb': 7}\n",
            "{0: '<pad>', 1: 'adjective', 2: 'adverb', 3: 'determiner', 4: 'noun', 5: 'preposition', 6: 'pronoun', 7: 'verb'}\n"
          ]
        }
      ]
    },
    {
      "cell_type": "code",
      "source": [
        "X = list(map(lambda sentence: [word2idx.get(token) for token in sentence], sentences))\n",
        "y = list(map(lambda sentence: [pos2idx.get(token) for token in sentence], pos))\n",
        "\n",
        "print(X)\n",
        "print(y)"
      ],
      "metadata": {
        "colab": {
          "base_uri": "https://localhost:8080/"
        },
        "id": "vugcyZy25v9N",
        "outputId": "05378c11-a236-45bb-b235-a037e9258191"
      },
      "execution_count": null,
      "outputs": [
        {
          "output_type": "stream",
          "name": "stdout",
          "text": [
            "[[1, 7, 10], [13, 11, 14, 5], [13, 11, 2, 9, 8, 4, 12], [13, 11, 14, 6, 3]]\n",
            "[[6, 7, 1], [4, 7, 2, 1], [4, 7, 3, 4, 5, 1, 4], [4, 7, 2, 1, 7]]\n"
          ]
        }
      ]
    },
    {
      "cell_type": "code",
      "source": [
        "from tensorflow.keras.preprocessing.sequence import pad_sequences\n",
        "\n",
        "X = pad_sequences(X, maxlen=10, padding='post')\n",
        "X_mask = (X != 0).astype(np.float32)\n",
        "X_len = np.array(list((map(lambda sentence: len(sentence), sentences))), dtype=np.float32)\n",
        "\n",
        "print(X)\n",
        "print(X_mask)\n",
        "print(X_len)"
      ],
      "metadata": {
        "colab": {
          "base_uri": "https://localhost:8080/"
        },
        "id": "YIEXWff95yHh",
        "outputId": "dd96d2d2-f67b-4051-f532-f308efb0afd4"
      },
      "execution_count": null,
      "outputs": [
        {
          "output_type": "stream",
          "name": "stdout",
          "text": [
            "[[ 1  7 10  0  0  0  0  0  0  0]\n",
            " [13 11 14  5  0  0  0  0  0  0]\n",
            " [13 11  2  9  8  4 12  0  0  0]\n",
            " [13 11 14  6  3  0  0  0  0  0]]\n",
            "[[1. 1. 1. 0. 0. 0. 0. 0. 0. 0.]\n",
            " [1. 1. 1. 1. 0. 0. 0. 0. 0. 0.]\n",
            " [1. 1. 1. 1. 1. 1. 1. 0. 0. 0.]\n",
            " [1. 1. 1. 1. 1. 0. 0. 0. 0. 0.]]\n",
            "[3. 4. 7. 5.]\n"
          ]
        }
      ]
    },
    {
      "cell_type": "code",
      "source": [
        "y = pad_sequences(y, maxlen=10, padding='post')\n",
        "\n",
        "print(y)"
      ],
      "metadata": {
        "colab": {
          "base_uri": "https://localhost:8080/"
        },
        "id": "rl64LCWS5zfr",
        "outputId": "20970ed6-0ed1-4401-9284-e24ad21cb3d2"
      },
      "execution_count": null,
      "outputs": [
        {
          "output_type": "stream",
          "name": "stdout",
          "text": [
            "[[6 7 1 0 0 0 0 0 0 0]\n",
            " [4 7 2 1 0 0 0 0 0 0]\n",
            " [4 7 3 4 5 1 4 0 0 0]\n",
            " [4 7 2 1 7 0 0 0 0 0]]\n"
          ]
        }
      ]
    },
    {
      "cell_type": "code",
      "source": [
        "train_ds = tf.data.Dataset.from_tensor_slices((X, y, X_len)).shuffle(buffer_size=4).batch(batch_size=2)\n",
        "\n",
        "print(train_ds)"
      ],
      "metadata": {
        "colab": {
          "base_uri": "https://localhost:8080/"
        },
        "id": "b3sq0R6B50pD",
        "outputId": "d3bbd7ad-7cfc-46c8-9230-16f0aa96ec1b"
      },
      "execution_count": null,
      "outputs": [
        {
          "output_type": "stream",
          "name": "stdout",
          "text": [
            "<BatchDataset element_spec=(TensorSpec(shape=(None, 10), dtype=tf.int32, name=None), TensorSpec(shape=(None, 10), dtype=tf.int32, name=None), TensorSpec(shape=(None,), dtype=tf.float32, name=None))>\n"
          ]
        }
      ]
    },
    {
      "cell_type": "markdown",
      "source": [
        "Model Implementation\n",
        "\n"
      ],
      "metadata": {
        "id": "pv_-ayB152n0"
      }
    },
    {
      "cell_type": "code",
      "source": [
        "num_classes = len(pos2idx)\n",
        "input_dim = len(word2idx)\n",
        "output_dim = len(word2idx)"
      ],
      "metadata": {
        "id": "f2K_Fi8F51hb"
      },
      "execution_count": null,
      "outputs": []
    },
    {
      "cell_type": "code",
      "source": [
        "from tensorflow.keras.models import Sequential\n",
        "from tensorflow.keras.layers import Embedding, TimeDistributed, Dense, SimpleRNN\n",
        "\n",
        "model = Sequential([\n",
        "    Embedding(input_dim=input_dim, output_dim=output_dim,\n",
        "              mask_zero=True, trainable=False, input_length=10,\n",
        "              embeddings_initializer=tf.keras.initializers.random_normal()),\n",
        "    SimpleRNN(units=10, return_sequences=True),\n",
        "    TimeDistributed(Dense(units=num_classes))\n",
        "])\n",
        "\n",
        "model.summary()"
      ],
      "metadata": {
        "colab": {
          "base_uri": "https://localhost:8080/"
        },
        "id": "pAYJEeIR534d",
        "outputId": "94a8b02c-7ad8-4b8c-92a8-54692c79932e"
      },
      "execution_count": null,
      "outputs": [
        {
          "output_type": "stream",
          "name": "stdout",
          "text": [
            "Model: \"sequential_1\"\n",
            "_________________________________________________________________\n",
            " Layer (type)                Output Shape              Param #   \n",
            "=================================================================\n",
            " embedding_1 (Embedding)     (None, 10, 15)            225       \n",
            "                                                                 \n",
            " simple_rnn_1 (SimpleRNN)    (None, 10, 10)            260       \n",
            "                                                                 \n",
            " time_distributed (TimeDistr  (None, 10, 8)            88        \n",
            " ibuted)                                                         \n",
            "                                                                 \n",
            "=================================================================\n",
            "Total params: 573\n",
            "Trainable params: 348\n",
            "Non-trainable params: 225\n",
            "_________________________________________________________________\n"
          ]
        }
      ]
    },
    {
      "cell_type": "code",
      "source": [
        "def loss_fn(model, x, y, x_len, max_sequence):\n",
        "    masking = tf.sequence_mask(x_len, maxlen=max_sequence, dtype=tf.float32)\n",
        "    sequence_loss = tf.keras.losses.sparse_categorical_crossentropy(\n",
        "        y_true=y, y_pred=model(x), from_logits=True\n",
        "    ) * masking\n",
        "    sequence_loss = tf.reduce_mean(tf.reduce_sum(sequence_loss, axis=1) / x_len)\n",
        "    return sequence_loss\n",
        "\n",
        "optimizer = tf.keras.optimizers.Adam(learning_rate=0.1)"
      ],
      "metadata": {
        "id": "VUGbAS8w5417"
      },
      "execution_count": null,
      "outputs": []
    },
    {
      "cell_type": "code",
      "source": [
        ""
      ],
      "metadata": {
        "id": "kCO_KDL86XJd"
      },
      "execution_count": null,
      "outputs": []
    },
    {
      "cell_type": "code",
      "source": [
        "tr_loss_hist = []\n",
        "\n",
        "for e in range(30):\n",
        "    avg_tr_loss = 0\n",
        "    tr_step = 0\n",
        "    \n",
        "    for x_mb, y_mb, x_mb_len in train_ds:\n",
        "        with tf.GradientTape() as tape:\n",
        "            tr_loss = loss_fn(model, x_mb, y_mb, x_mb_len, max_sequence=10)\n",
        "        grads = tape.gradient(tr_loss, model.trainable_variables)\n",
        "        optimizer.apply_gradients(grads_and_vars=zip(grads, model.trainable_variables))\n",
        "        avg_tr_loss += tr_loss\n",
        "        tr_step += 1\n",
        "    avg_tr_loss /= tr_step\n",
        "    tr_loss_hist.append(avg_tr_loss)\n",
        "    \n",
        "    if (e + 1) % 5 == 0:\n",
        "        print('Epoch: {:3}, tr_loss: {:.3f}'.format(e+1, avg_tr_loss))"
      ],
      "metadata": {
        "colab": {
          "base_uri": "https://localhost:8080/"
        },
        "id": "JNfdNCBL56BO",
        "outputId": "9af6b7ca-8993-4494-8b7f-d9c11b25b67b"
      },
      "execution_count": null,
      "outputs": [
        {
          "output_type": "stream",
          "name": "stdout",
          "text": [
            "Epoch:   5, tr_loss: 0.768\n",
            "Epoch:  10, tr_loss: 0.254\n",
            "Epoch:  15, tr_loss: 0.200\n",
            "Epoch:  20, tr_loss: 0.039\n",
            "Epoch:  25, tr_loss: 0.013\n",
            "Epoch:  30, tr_loss: 0.007\n"
          ]
        }
      ]
    },
    {
      "cell_type": "code",
      "source": [
        "y_pred = model.predict(X)\n",
        "y_pred = np.argmax(y_pred, axis=-1) * X_mask\n",
        "\n",
        "y_pred"
      ],
      "metadata": {
        "colab": {
          "base_uri": "https://localhost:8080/"
        },
        "id": "pNVK-LhI57Zt",
        "outputId": "fd5aa010-98c5-4b49-95f1-6e6581375c0a"
      },
      "execution_count": null,
      "outputs": [
        {
          "output_type": "execute_result",
          "data": {
            "text/plain": [
              "array([[6., 7., 1., 0., 0., 0., 0., 0., 0., 0.],\n",
              "       [4., 7., 2., 1., 0., 0., 0., 0., 0., 0.],\n",
              "       [4., 7., 3., 4., 5., 1., 4., 0., 0., 0.],\n",
              "       [4., 7., 2., 1., 7., 0., 0., 0., 0., 0.]])"
            ]
          },
          "metadata": {},
          "execution_count": 28
        }
      ]
    },
    {
      "cell_type": "code",
      "source": [
        "from pprint import pprint\n",
        "\n",
        "y_pred_pos = list(map(lambda row: [idx2pos.get(elm) for elm in row], y_pred.astype(np.int32).tolist()))\n",
        "\n",
        "pprint(y_pred_pos)\n",
        "\n",
        "pprint(pos)"
      ],
      "metadata": {
        "colab": {
          "base_uri": "https://localhost:8080/"
        },
        "id": "ISFpzyd058to",
        "outputId": "84c21d4a-669c-4cb9-f2a0-b563b549f793"
      },
      "execution_count": null,
      "outputs": [
        {
          "output_type": "stream",
          "name": "stdout",
          "text": [
            "[['pronoun',\n",
            "  'verb',\n",
            "  'adjective',\n",
            "  '<pad>',\n",
            "  '<pad>',\n",
            "  '<pad>',\n",
            "  '<pad>',\n",
            "  '<pad>',\n",
            "  '<pad>',\n",
            "  '<pad>'],\n",
            " ['noun',\n",
            "  'verb',\n",
            "  'adverb',\n",
            "  'adjective',\n",
            "  '<pad>',\n",
            "  '<pad>',\n",
            "  '<pad>',\n",
            "  '<pad>',\n",
            "  '<pad>',\n",
            "  '<pad>'],\n",
            " ['noun',\n",
            "  'verb',\n",
            "  'determiner',\n",
            "  'noun',\n",
            "  'preposition',\n",
            "  'adjective',\n",
            "  'noun',\n",
            "  '<pad>',\n",
            "  '<pad>',\n",
            "  '<pad>'],\n",
            " ['noun',\n",
            "  'verb',\n",
            "  'adverb',\n",
            "  'adjective',\n",
            "  'verb',\n",
            "  '<pad>',\n",
            "  '<pad>',\n",
            "  '<pad>',\n",
            "  '<pad>',\n",
            "  '<pad>']]\n",
            "[['pronoun', 'verb', 'adjective'],\n",
            " ['noun', 'verb', 'adverb', 'adjective'],\n",
            " ['noun', 'verb', 'determiner', 'noun', 'preposition', 'adjective', 'noun'],\n",
            " ['noun', 'verb', 'adverb', 'adjective', 'verb']]\n"
          ]
        }
      ]
    },
    {
      "cell_type": "code",
      "source": [
        "plt.figure()\n",
        "plt.plot(tr_loss_hist)\n",
        "plt.title('Training loss for many-to-many model')\n",
        "plt.show()"
      ],
      "metadata": {
        "colab": {
          "base_uri": "https://localhost:8080/",
          "height": 281
        },
        "id": "oum_o-kn59xB",
        "outputId": "8406778d-ef3a-40c7-8d85-cd982b270b4d"
      },
      "execution_count": null,
      "outputs": [
        {
          "output_type": "display_data",
          "data": {
            "text/plain": [
              "<Figure size 432x288 with 1 Axes>"
            ],
            "image/png": "[encoded data removed]"
          },
          "metadata": {
            "needs_background": "light"
          }
        }
      ]
    },
    {
      "cell_type": "code",
      "source": [
        ""
      ],
      "metadata": {
        "id": "sdd5eGd55-1T"
      },
      "execution_count": null,
      "outputs": []
    }
  ]
}