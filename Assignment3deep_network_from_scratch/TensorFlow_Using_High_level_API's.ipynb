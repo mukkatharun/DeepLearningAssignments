{
  "nbformat": 4,
  "nbformat_minor": 0,
  "metadata": {
    "colab": {
      "name": "TensorFlow Using High level API's.ipynb",
      "provenance": []
    },
    "kernelspec": {
      "name": "python3",
      "display_name": "Python 3"
    },
    "language_info": {
      "name": "python"
    },
    "accelerator": "GPU"
  },
  "cells": [
    {
      "cell_type": "code",
      "execution_count": 1,
      "metadata": {
        "id": "raVx6uGxrRt8"
      },
      "outputs": [],
      "source": [
        "import tensorflow as tf\n",
        "from tensorflow import keras"
      ]
    },
    {
      "cell_type": "markdown",
      "source": [
        "The Layer class\n",
        "The Layer is the fundamental abstraction in Keras. A Layer encapsulates a state (weights) and some computation (defined in the call method).\n",
        "\n",
        "A simple layer looks like this:"
      ],
      "metadata": {
        "id": "RAkZyGBRrqkH"
      }
    },
    {
      "cell_type": "code",
      "source": [
        "class Linear(keras.layers.Layer):\n",
        "  \"\"\"y = w.x + b\"\"\"\n",
        "\n",
        "  def __init__(self, units=32, input_dim=32):\n",
        "      super(Linear, self).__init__()\n",
        "      w_init = tf.random_normal_initializer()\n",
        "      self.w = tf.Variable(\n",
        "          initial_value=w_init(shape=(input_dim, units), dtype='float32'),\n",
        "          trainable=True)\n",
        "      b_init = tf.zeros_initializer()\n",
        "      self.b = tf.Variable(\n",
        "          initial_value=b_init(shape=(units,), dtype='float32'),\n",
        "          trainable=True)\n",
        "\n",
        "  def call(self, inputs):\n",
        "      return tf.matmul(inputs, self.w) + self.b"
      ],
      "metadata": {
        "id": "jHIQu81uriPP"
      },
      "execution_count": 2,
      "outputs": []
    },
    {
      "cell_type": "code",
      "source": [
        "# Instantiate our layer.\n",
        "linear_layer = Linear(units=4, input_dim=2)\n",
        "\n",
        "# The layer can be treated as a function.\n",
        "# Here we call it on some data.\n",
        "y = linear_layer(tf.ones((2, 2)))\n",
        "assert y.shape == (2, 4)"
      ],
      "metadata": {
        "id": "eumAt_xkrsWF"
      },
      "execution_count": 3,
      "outputs": []
    },
    {
      "cell_type": "code",
      "source": [
        "assert linear_layer.weights == [linear_layer.w, linear_layer.b]"
      ],
      "metadata": {
        "id": "JL5KdTmWrtke"
      },
      "execution_count": 4,
      "outputs": []
    },
    {
      "cell_type": "markdown",
      "source": [
        "**Weight creation**\n",
        "\n",
        "The add_weight method gives you a shortcut for creating weights:"
      ],
      "metadata": {
        "id": "VjTmSfaeryAW"
      }
    },
    {
      "cell_type": "code",
      "source": [
        "class Linear(keras.layers.Layer):\n",
        "  \"\"\"y = w.x + b\"\"\"\n",
        "\n",
        "  def __init__(self, units=32):\n",
        "      super(Linear, self).__init__()\n",
        "      self.units = units\n",
        "\n",
        "  def build(self, input_shape):\n",
        "      self.w = self.add_weight(shape=(input_shape[-1], self.units),\n",
        "                               initializer='random_normal',\n",
        "                               trainable=True)\n",
        "      self.b = self.add_weight(shape=(self.units,),\n",
        "                               initializer='random_normal',\n",
        "                               trainable=True)\n",
        "\n",
        "  def call(self, inputs):\n",
        "      return tf.matmul(inputs, self.w) + self.b\n",
        "\n",
        "\n",
        "# Instantiate our lazy layer.\n",
        "linear_layer = Linear(4)\n",
        "\n",
        "# This will also call `build(input_shape)` and create the weights.\n",
        "y = linear_layer(tf.ones((2, 2)))"
      ],
      "metadata": {
        "id": "mHw8iI5WrvVQ"
      },
      "execution_count": 5,
      "outputs": []
    },
    {
      "cell_type": "markdown",
      "source": [
        "**Gradients**\n",
        "\n",
        "You can automatically retrieve the gradients of the weights of a layer by calling it inside a GradientTape. Using these gradients, you can update the weights of the layer, either manually, or using an optimizer object. Of course, you can modify the gradients before using them, if you need to."
      ],
      "metadata": {
        "id": "Xt3Dv2krr5rE"
      }
    },
    {
      "cell_type": "code",
      "source": [
        "# Prepare a dataset.\n",
        "(x_train, y_train), _ = tf.keras.datasets.mnist.load_data()\n",
        "dataset = tf.data.Dataset.from_tensor_slices(\n",
        "    (x_train.reshape(60000, 784).astype('float32') / 255, y_train))\n",
        "dataset = dataset.shuffle(buffer_size=1024).batch(64)\n",
        "\n",
        "# Instantiate our linear layer (defined above) with 10 units.\n",
        "linear_layer = Linear(10)\n",
        "\n",
        "# Instantiate a logistic loss function that expects integer targets.\n",
        "loss_fn = tf.keras.losses.SparseCategoricalCrossentropy(from_logits=True)\n",
        "\n",
        "# Instantiate an optimizer.\n",
        "optimizer = tf.keras.optimizers.SGD(learning_rate=1e-3)\n",
        "\n",
        "# Iterate over the batches of the dataset.\n",
        "for step, (x, y) in enumerate(dataset):\n",
        "  \n",
        "  # Open a GradientTape.\n",
        "  with tf.GradientTape() as tape:\n",
        "\n",
        "    # Forward pass.\n",
        "    logits = linear_layer(x)\n",
        "\n",
        "    # Loss value for this batch.\n",
        "    loss = loss_fn(y, logits)\n",
        "     \n",
        "  # Get gradients of weights wrt the loss.\n",
        "  gradients = tape.gradient(loss, linear_layer.trainable_weights)\n",
        "  \n",
        "  # Update the weights of our linear layer.\n",
        "  optimizer.apply_gradients(zip(gradients, linear_layer.trainable_weights))\n",
        "  \n",
        "  # Logging.\n",
        "  if step % 100 == 0:\n",
        "    print('Step:', step, 'Loss:', float(loss))"
      ],
      "metadata": {
        "colab": {
          "base_uri": "https://localhost:8080/"
        },
        "id": "ttp7pOsEr3Wm",
        "outputId": "2f727a06-2673-494d-8c1d-26378ea1b74a"
      },
      "execution_count": 6,
      "outputs": [
        {
          "output_type": "stream",
          "name": "stdout",
          "text": [
            "Downloading data from https://storage.googleapis.com/tensorflow/tf-keras-datasets/mnist.npz\n",
            "11493376/11490434 [==============================] - 0s 0us/step\n",
            "11501568/11490434 [==============================] - 0s 0us/step\n",
            "Step: 0 Loss: 2.516839027404785\n",
            "Step: 100 Loss: 2.2252793312072754\n",
            "Step: 200 Loss: 2.2305097579956055\n",
            "Step: 300 Loss: 2.1866917610168457\n",
            "Step: 400 Loss: 1.9658257961273193\n",
            "Step: 500 Loss: 1.9514620304107666\n",
            "Step: 600 Loss: 1.9081852436065674\n",
            "Step: 700 Loss: 1.7117962837219238\n",
            "Step: 800 Loss: 1.6903283596038818\n",
            "Step: 900 Loss: 1.6467673778533936\n"
          ]
        }
      ]
    },
    {
      "cell_type": "markdown",
      "source": [
        "Trainable and non-trainable weights\n",
        "\n",
        "Weights created by layers can be either trainable or non-trainable. They're exposed in trainable_weights and non_trainable_weights respectively. Here's a layer with a non-trainable weight:"
      ],
      "metadata": {
        "id": "auwFpkPcsAi1"
      }
    },
    {
      "cell_type": "code",
      "source": [
        "class ComputeSum(keras.layers.Layer):\n",
        "  \"\"\"Returns the sum of the inputs.\"\"\"\n",
        "\n",
        "  def __init__(self, input_dim):\n",
        "      super(ComputeSum, self).__init__()\n",
        "      # Create a non-trainable weight.\n",
        "      self.total = tf.Variable(initial_value=tf.zeros((input_dim,)),\n",
        "                               trainable=False)\n",
        "\n",
        "  def call(self, inputs):\n",
        "      self.total.assign_add(tf.reduce_sum(inputs, axis=0))\n",
        "      return self.total  \n",
        "\n",
        "my_sum = ComputeSum(2)\n",
        "x = tf.ones((2, 2))\n",
        "\n",
        "y = my_sum(x)\n",
        "print(y.numpy())  # [2. 2.]\n",
        "\n",
        "y = my_sum(x)\n",
        "print(y.numpy())  # [4. 4.]\n",
        "\n",
        "assert my_sum.weights == [my_sum.total]\n",
        "assert my_sum.non_trainable_weights == [my_sum.total]\n",
        "assert my_sum.trainable_weights == []"
      ],
      "metadata": {
        "colab": {
          "base_uri": "https://localhost:8080/"
        },
        "id": "Kk_9-zv_r9_J",
        "outputId": "7386d94b-a343-4fb3-9d65-c733bd6c706c"
      },
      "execution_count": 7,
      "outputs": [
        {
          "output_type": "stream",
          "name": "stdout",
          "text": [
            "[2. 2.]\n",
            "[4. 4.]\n"
          ]
        }
      ]
    },
    {
      "cell_type": "markdown",
      "source": [
        "**Layers that own layers**\n",
        "\n",
        "Layers can be recursively nested to create bigger computation blocks. Each layer will track the weights of its sublayers (both trainable and non-trainable)."
      ],
      "metadata": {
        "id": "URIBVpG4sJqh"
      }
    },
    {
      "cell_type": "code",
      "source": [
        "# Let's reuse the Linear class\n",
        "# with a `build` method that we defined above.\n",
        "\n",
        "class MLP(keras.layers.Layer):\n",
        "    \"\"\"Simple stack of Linear layers.\"\"\"\n",
        "\n",
        "    def __init__(self):\n",
        "        super(MLP, self).__init__()\n",
        "        self.linear_1 = Linear(32)\n",
        "        self.linear_2 = Linear(32)\n",
        "        self.linear_3 = Linear(10)\n",
        "\n",
        "    def call(self, inputs):\n",
        "        x = self.linear_1(inputs)\n",
        "        x = tf.nn.relu(x)\n",
        "        x = self.linear_2(x)\n",
        "        x = tf.nn.relu(x)\n",
        "        return self.linear_3(x)\n",
        "\n",
        "mlp = MLP()\n",
        "\n",
        "# The first call to the `mlp` object will create the weights.\n",
        "y = mlp(tf.ones(shape=(3, 64)))\n",
        "\n",
        "# Weights are recursively tracked.\n",
        "assert len(mlp.weights) == 6"
      ],
      "metadata": {
        "id": "GEjg6xq5sGPQ"
      },
      "execution_count": 8,
      "outputs": []
    },
    {
      "cell_type": "code",
      "source": [
        "mlp = keras.Sequential([keras.layers.Dense(32, activation=tf.nn.relu),\n",
        "                        keras.layers.Dense(32, activation=tf.nn.relu),\n",
        "                        keras.layers.Dense(10)])"
      ],
      "metadata": {
        "id": "hjYVNksesO-M"
      },
      "execution_count": 9,
      "outputs": []
    },
    {
      "cell_type": "markdown",
      "source": [
        "**Tracking losses created by layers**\n",
        "\n",
        "Layers can create losses during the forward pass via the add_loss() method. This is especially useful for regularization losses. The losses created by sublayers are recursively tracked by the parent layers.\n",
        "\n",
        "Here's a layer that creates an activity regularization loss:"
      ],
      "metadata": {
        "id": "qCPNEx1csS_4"
      }
    },
    {
      "cell_type": "code",
      "source": [
        "class ActivityRegularization(keras.layers.Layer):\n",
        "  \"\"\"Layer that creates an activity sparsity regularization loss.\"\"\"\n",
        "  \n",
        "  def __init__(self, rate=1e-2):\n",
        "    super(ActivityRegularization, self).__init__()\n",
        "    self.rate = rate\n",
        "  \n",
        "  def call(self, inputs):\n",
        "    # We use `add_loss` to create a regularization loss\n",
        "    # that depends on the inputs.\n",
        "    self.add_loss(self.rate * tf.reduce_sum(inputs))\n",
        "    return inputs"
      ],
      "metadata": {
        "id": "vlvwscgYsQn1"
      },
      "execution_count": 10,
      "outputs": []
    },
    {
      "cell_type": "code",
      "source": [
        "# Let's use the loss layer in a MLP block.\n",
        "\n",
        "class SparseMLP(keras.layers.Layer):\n",
        "  \"\"\"Stack of Linear layers with a sparsity regularization loss.\"\"\"\n",
        "\n",
        "  def __init__(self):\n",
        "      super(SparseMLP, self).__init__()\n",
        "      self.linear_1 = Linear(32)\n",
        "      self.regularization = ActivityRegularization(1e-2)\n",
        "      self.linear_3 = Linear(10)\n",
        "\n",
        "  def call(self, inputs):\n",
        "      x = self.linear_1(inputs)\n",
        "      x = tf.nn.relu(x)\n",
        "      x = self.regularization(x)\n",
        "      return self.linear_3(x)\n",
        "    \n",
        "\n",
        "mlp = SparseMLP()\n",
        "y = mlp(tf.ones((10, 10)))\n",
        "\n",
        "print(mlp.losses)  # List containing one float32 scalar"
      ],
      "metadata": {
        "colab": {
          "base_uri": "https://localhost:8080/"
        },
        "id": "JIk4BBqwslJ7",
        "outputId": "ddbaa964-e274-4c64-cb30-3c9e9c3a2d2d"
      },
      "execution_count": 11,
      "outputs": [
        {
          "output_type": "stream",
          "name": "stdout",
          "text": [
            "[<tf.Tensor: shape=(), dtype=float32, numpy=0.1868537>]\n"
          ]
        }
      ]
    },
    {
      "cell_type": "code",
      "source": [
        "# Losses correspond to the *last* forward pass.\n",
        "mlp = SparseMLP()\n",
        "mlp(tf.ones((10, 10)))\n",
        "assert len(mlp.losses) == 1\n",
        "mlp(tf.ones((10, 10)))\n",
        "assert len(mlp.losses) == 1  # No accumulation.\n",
        "\n",
        "# Let's demonstrate how to use these losses in a training loop.\n",
        "\n",
        "# Prepare a dataset.\n",
        "(x_train, y_train), _ = tf.keras.datasets.mnist.load_data()\n",
        "dataset = tf.data.Dataset.from_tensor_slices(\n",
        "    (x_train.reshape(60000, 784).astype('float32') / 255, y_train))\n",
        "dataset = dataset.shuffle(buffer_size=1024).batch(64)\n",
        "\n",
        "# A new MLP.\n",
        "mlp = SparseMLP()\n",
        "\n",
        "# Loss and optimizer.\n",
        "loss_fn = tf.keras.losses.SparseCategoricalCrossentropy(from_logits=True)\n",
        "optimizer = tf.keras.optimizers.SGD(learning_rate=1e-3)\n",
        "\n",
        "for step, (x, y) in enumerate(dataset):\n",
        "  with tf.GradientTape() as tape:\n",
        "\n",
        "    # Forward pass.\n",
        "    logits = mlp(x)\n",
        "\n",
        "    # External loss value for this batch.\n",
        "    loss = loss_fn(y, logits)\n",
        "    \n",
        "    # Add the losses created during the forward pass.\n",
        "    loss += sum(mlp.losses)\n",
        "     \n",
        "    # Get gradients of weights wrt the loss.\n",
        "    gradients = tape.gradient(loss, mlp.trainable_weights)\n",
        "  \n",
        "  # Update the weights of our linear layer.\n",
        "  optimizer.apply_gradients(zip(gradients, mlp.trainable_weights))\n",
        "  \n",
        "  # Logging.\n",
        "  if step % 100 == 0:\n",
        "    print('Step:', step, 'Loss:', float(loss))"
      ],
      "metadata": {
        "colab": {
          "base_uri": "https://localhost:8080/"
        },
        "id": "LRstG0g6smT1",
        "outputId": "83b4abbf-5576-4b96-8920-bed46477c054"
      },
      "execution_count": 13,
      "outputs": [
        {
          "output_type": "stream",
          "name": "stdout",
          "text": [
            "Step: 0 Loss: 5.5367608070373535\n",
            "Step: 100 Loss: 2.5227456092834473\n",
            "Step: 200 Loss: 2.3784284591674805\n",
            "Step: 300 Loss: 2.350877046585083\n",
            "Step: 400 Loss: 2.363863229751587\n",
            "Step: 500 Loss: 2.329624891281128\n",
            "Step: 600 Loss: 2.308661460876465\n",
            "Step: 700 Loss: 2.3150815963745117\n",
            "Step: 800 Loss: 2.3363425731658936\n",
            "Step: 900 Loss: 2.3303799629211426\n"
          ]
        }
      ]
    },
    {
      "cell_type": "markdown",
      "source": [
        "**Keeping track of training metrics**\n",
        "\n",
        "Keras offers a broad range of built-in metrics, like tf.keras.metrics.AUC or tf.keras.metrics.PrecisionAtRecall. It's also easy to create your own metrics in a few lines of code.\n",
        "\n",
        "To use a metric in a custom training loop, you would:\n",
        "\n",
        "Instantiate the metric object, e.g. metric = tf.keras.metrics.AUC()\n",
        "Call its metric.udpate_state(targets, predictions) method for each batch of data\n",
        "Query its result via metric.result()\n",
        "Reset the metric's state at the end of an epoch or at the start of an evaluation via metric.reset_states()\n",
        "Here's a simple example:"
      ],
      "metadata": {
        "id": "EfvX7uhOsw37"
      }
    },
    {
      "cell_type": "code",
      "source": [
        "# Instantiate a metric object\n",
        "accuracy = tf.keras.metrics.SparseCategoricalAccuracy()\n",
        "\n",
        "# Prepare our layer, loss, and optimizer.\n",
        "model = keras.Sequential([keras.layers.Dense(32, activation='relu'),\n",
        "                          keras.layers.Dense(32, activation='relu'),\n",
        "                          keras.layers.Dense(10)])\n",
        "loss_fn = tf.keras.losses.SparseCategoricalCrossentropy(from_logits=True)\n",
        "optimizer = tf.keras.optimizers.Adam(learning_rate=1e-3)\n",
        "\n",
        "for epoch in range(2):\n",
        "    # Iterate over the batches of a dataset.\n",
        "    for step, (x, y) in enumerate(dataset):\n",
        "        with tf.GradientTape() as tape:\n",
        "            logits = model(x)\n",
        "            # Compute the loss value for this batch.\n",
        "            loss_value = loss_fn(y, logits)\n",
        "\n",
        "        # Update the state of the `accuracy` metric.\n",
        "        accuracy.update_state(y, logits)\n",
        "\n",
        "        # Update the weights of the model to minimize the loss value.\n",
        "        gradients = tape.gradient(loss_value, model.trainable_weights)\n",
        "        optimizer.apply_gradients(zip(gradients, model.trainable_weights))\n",
        "\n",
        "        # Logging the current accuracy value so far.\n",
        "        if step % 200 == 0:\n",
        "            print('Epoch:', epoch, 'Step:', step)        \n",
        "            print('Total running accuracy so far: %.3f' % accuracy.result())\n",
        "\n",
        "    # Result the metric's state at the end of an epoch\n",
        "    accuracy.reset_states()"
      ],
      "metadata": {
        "colab": {
          "base_uri": "https://localhost:8080/"
        },
        "id": "dfT5jLPssoF8",
        "outputId": "0544f5ae-bf55-4fed-8faf-3308e6840aeb"
      },
      "execution_count": 14,
      "outputs": [
        {
          "output_type": "stream",
          "name": "stdout",
          "text": [
            "Epoch: 0 Step: 0\n",
            "Total running accuracy so far: 0.203\n",
            "Epoch: 0 Step: 200\n",
            "Total running accuracy so far: 0.773\n",
            "Epoch: 0 Step: 400\n",
            "Total running accuracy so far: 0.839\n",
            "Epoch: 0 Step: 600\n",
            "Total running accuracy so far: 0.866\n",
            "Epoch: 0 Step: 800\n",
            "Total running accuracy so far: 0.880\n",
            "Epoch: 1 Step: 0\n",
            "Total running accuracy so far: 0.922\n",
            "Epoch: 1 Step: 200\n",
            "Total running accuracy so far: 0.941\n",
            "Epoch: 1 Step: 400\n",
            "Total running accuracy so far: 0.941\n",
            "Epoch: 1 Step: 600\n",
            "Total running accuracy so far: 0.943\n",
            "Epoch: 1 Step: 800\n",
            "Total running accuracy so far: 0.943\n"
          ]
        }
      ]
    },
    {
      "cell_type": "markdown",
      "source": [
        "**Compiled functions**\n",
        "\n",
        "Running eagerly is great for debugging, but you will get better performance by compiling your computation into static graphs. Static graphs are a researcher's best friends. You can compile any function by wrapping it in a tf.function decorator."
      ],
      "metadata": {
        "id": "dm3DMQjZs5C0"
      }
    },
    {
      "cell_type": "code",
      "source": [
        "# Prepare our layer, loss, and optimizer.\n",
        "model = keras.Sequential([keras.layers.Dense(32, activation='relu'),\n",
        "                          keras.layers.Dense(32, activation='relu'),\n",
        "                          keras.layers.Dense(10)])\n",
        "loss_fn = tf.keras.losses.SparseCategoricalCrossentropy(from_logits=True)\n",
        "optimizer = tf.keras.optimizers.Adam(learning_rate=1e-3)\n",
        "\n",
        "# Create a training step function.\n",
        "\n",
        "@tf.function  # Make it fast.\n",
        "def train_on_batch(x, y):\n",
        "  with tf.GradientTape() as tape:\n",
        "    logits = model(x)\n",
        "    loss = loss_fn(y, logits)\n",
        "    gradients = tape.gradient(loss, model.trainable_weights)\n",
        "  optimizer.apply_gradients(zip(gradients, model.trainable_weights))\n",
        "  return loss\n",
        "\n",
        "# Prepare a dataset.\n",
        "(x_train, y_train), _ = tf.keras.datasets.mnist.load_data()\n",
        "dataset = tf.data.Dataset.from_tensor_slices(\n",
        "    (x_train.reshape(60000, 784).astype('float32') / 255, y_train))\n",
        "dataset = dataset.shuffle(buffer_size=1024).batch(64)\n",
        "\n",
        "for step, (x, y) in enumerate(dataset):\n",
        "  loss = train_on_batch(x, y)\n",
        "  if step % 100 == 0:\n",
        "    print('Step:', step, 'Loss:', float(loss))"
      ],
      "metadata": {
        "colab": {
          "base_uri": "https://localhost:8080/"
        },
        "id": "USXFoP5Ps1jN",
        "outputId": "fe532c9a-a3c3-47d3-8c50-b61acdb1e6bd"
      },
      "execution_count": 15,
      "outputs": [
        {
          "output_type": "stream",
          "name": "stdout",
          "text": [
            "Step: 0 Loss: 2.304279327392578\n",
            "Step: 100 Loss: 0.49911943078041077\n",
            "Step: 200 Loss: 0.4694761633872986\n",
            "Step: 300 Loss: 0.260073184967041\n",
            "Step: 400 Loss: 0.41425788402557373\n",
            "Step: 500 Loss: 0.3537057638168335\n",
            "Step: 600 Loss: 0.26796579360961914\n",
            "Step: 700 Loss: 0.285449743270874\n",
            "Step: 800 Loss: 0.25368618965148926\n",
            "Step: 900 Loss: 0.3029312193393707\n"
          ]
        }
      ]
    },
    {
      "cell_type": "markdown",
      "source": [
        "**Training mode & inference mode**\n",
        "\n",
        "Some layers, in particular the BatchNormalization layer and the Dropout layer, have different behaviors during training and inference. For such layers, it is standard practice to expose a training (boolean) argument in the call method.\n",
        "\n",
        "By exposing this argument in call, you enable the built-in training and evaluation loops (e.g. fit) to correctly use the layer in training and inference modes."
      ],
      "metadata": {
        "id": "S-kYuupctBCD"
      }
    },
    {
      "cell_type": "code",
      "source": [
        "class Dropout(keras.layers.Layer):\n",
        "  \n",
        "  def __init__(self, rate):\n",
        "    super(Dropout, self).__init__()\n",
        "    self.rate = rate\n",
        "\n",
        "  def call(self, inputs, training=None):\n",
        "    if training:\n",
        "      return tf.nn.dropout(inputs, rate=self.rate)\n",
        "    return inputs\n",
        "  \n",
        "\n",
        "class MLPWithDropout(keras.layers.Layer):\n",
        "\n",
        "  def __init__(self):\n",
        "      super(MLPWithDropout, self).__init__()\n",
        "      self.linear_1 = Linear(32)\n",
        "      self.dropout = Dropout(0.5)\n",
        "      self.linear_3 = Linear(10)\n",
        "\n",
        "  def call(self, inputs, training=None):\n",
        "      x = self.linear_1(inputs)\n",
        "      x = tf.nn.relu(x)\n",
        "      x = self.dropout(x, training=training)\n",
        "      return self.linear_3(x)\n",
        "    \n",
        "mlp = MLPWithDropout()\n",
        "y_train = mlp(tf.ones((2, 2)), training=True)\n",
        "y_test = mlp(tf.ones((2, 2)), training=False)"
      ],
      "metadata": {
        "id": "ScZ9oRNfs_Cg"
      },
      "execution_count": 16,
      "outputs": []
    },
    {
      "cell_type": "markdown",
      "source": [
        "**The Functional API for model-building**\n",
        "\n",
        "To build deep learning models, you don't have to use object-oriented programming all the time. All layers we've seen so far can also be composed functionally, like this (we call it the \"Functional API\"):"
      ],
      "metadata": {
        "id": "rh5adZDPtHVd"
      }
    },
    {
      "cell_type": "code",
      "source": [
        "# We use an `Input` object to describe the shape and dtype of the inputs.\n",
        "# This is the deep learning equivalent of *declaring a type*.\n",
        "# The shape argument is per-sample; it does not include the batch size.\n",
        "# The functional API focused on defining per-sample transformations.\n",
        "# The model we create will automatically batch the per-sample transformations,\n",
        "# so that it can be called on batches of data.\n",
        "inputs = tf.keras.Input(shape=(16,), dtype='float32')\n",
        "\n",
        "# We call layers on these \"type\" objects\n",
        "# and they return updated types (new shapes/dtypes).\n",
        "x = Linear(32)(inputs) # We are reusing the Linear layer we defined earlier.\n",
        "x = Dropout(0.5)(x) # We are reusing the Dropout layer we defined earlier.\n",
        "outputs = Linear(10)(x)\n",
        "\n",
        "# A functional `Model` can be defined by specifying inputs and outputs.\n",
        "# A model is itself a layer like any other.\n",
        "model = tf.keras.Model(inputs, outputs)\n",
        "\n",
        "# A functional model already has weights, before being called on any data.\n",
        "# That's because we defined its input shape in advance (in `Input`).\n",
        "assert len(model.weights) == 4\n",
        "\n",
        "# Let's call our model on some data, for fun.\n",
        "y = model(tf.ones((2, 16)))\n",
        "assert y.shape == (2, 10)\n",
        "\n",
        "# You can pass a `training` argument in `__call__`\n",
        "# (it will get passed down to the Dropout layer).\n",
        "y = model(tf.ones((2, 16)), training=True)"
      ],
      "metadata": {
        "id": "BTTalydRtFt6"
      },
      "execution_count": 17,
      "outputs": []
    },
    {
      "cell_type": "markdown",
      "source": [
        "**End-to-end experiment example 1: variational autoencoders.**\n",
        "\n",
        "Here are some of things you've learned so far:\n",
        "\n",
        "A Layer encapsulate a state (created in __init__ or build) and some computation (defined in call).\n",
        "Layers can be recursively nested to create new, bigger computation blocks.\n",
        "You can easily write highly hackable training loops by opening a GradientTape, calling your model inside the tape's scope, then retrieving gradients and applying them via an optimizer.\n",
        "You can speed up your training loops using the @tf.function decorator.\n",
        "Layers can create and track losses (typically regularization losses) via self.add_loss().\n",
        "Let's put all of these things together into an end-to-end example: we're going to implement a Variational AutoEncoder (VAE). We'll train it on MNIST digits.\n",
        "\n",
        "Our VAE will be a subclass of Layer, built as a nested composition of layers that subclass Layer. It will feature a regularization loss (KL divergence)."
      ],
      "metadata": {
        "id": "BF13uTFetQs0"
      }
    },
    {
      "cell_type": "code",
      "source": [
        "from tensorflow.keras import layers\n",
        "\n",
        "class Sampling(layers.Layer):\n",
        "  \"\"\"Uses (z_mean, z_log_var) to sample z, the vector encoding a digit.\"\"\"\n",
        "\n",
        "  def call(self, inputs):\n",
        "    z_mean, z_log_var = inputs\n",
        "    batch = tf.shape(z_mean)[0]\n",
        "    dim = tf.shape(z_mean)[1]\n",
        "    epsilon = tf.keras.backend.random_normal(shape=(batch, dim))\n",
        "    return z_mean + tf.exp(0.5 * z_log_var) * epsilon\n",
        "\n",
        "\n",
        "class Encoder(layers.Layer):\n",
        "  \"\"\"Maps MNIST digits to a triplet (z_mean, z_log_var, z).\"\"\"\n",
        "\n",
        "  def __init__(self,\n",
        "               latent_dim=32,\n",
        "               intermediate_dim=64,\n",
        "               **kwargs):\n",
        "    super(Encoder, self).__init__(**kwargs)\n",
        "    self.dense_proj = layers.Dense(intermediate_dim, activation=tf.nn.relu)\n",
        "    self.dense_mean = layers.Dense(latent_dim)\n",
        "    self.dense_log_var = layers.Dense(latent_dim)\n",
        "    self.sampling = Sampling()\n",
        "\n",
        "  def call(self, inputs):\n",
        "    x = self.dense_proj(inputs)\n",
        "    z_mean = self.dense_mean(x)\n",
        "    z_log_var = self.dense_log_var(x)\n",
        "    z = self.sampling((z_mean, z_log_var))\n",
        "    return z_mean, z_log_var, z"
      ],
      "metadata": {
        "id": "LqXsTbCutLT0"
      },
      "execution_count": 18,
      "outputs": []
    },
    {
      "cell_type": "code",
      "source": [
        "class Decoder(layers.Layer):\n",
        "  \"\"\"Converts z, the encoded digit vector, back into a readable digit.\"\"\"\n",
        "\n",
        "  def __init__(self,\n",
        "               original_dim,\n",
        "               intermediate_dim=64,\n",
        "               **kwargs):\n",
        "    super(Decoder, self).__init__(**kwargs)\n",
        "    self.dense_proj = layers.Dense(intermediate_dim, activation=tf.nn.relu)\n",
        "    self.dense_output = layers.Dense(original_dim, activation=tf.nn.sigmoid)\n",
        "\n",
        "  def call(self, inputs):\n",
        "    x = self.dense_proj(inputs)\n",
        "    return self.dense_output(x)"
      ],
      "metadata": {
        "id": "pti6u7mGtWDr"
      },
      "execution_count": 19,
      "outputs": []
    },
    {
      "cell_type": "code",
      "source": [
        "class VariationalAutoEncoder(layers.Layer):\n",
        "  \"\"\"Combines the encoder and decoder into an end-to-end model for training.\"\"\"\n",
        "\n",
        "  def __init__(self,\n",
        "               original_dim,\n",
        "               intermediate_dim=64,\n",
        "               latent_dim=32,\n",
        "               **kwargs):\n",
        "    super(VariationalAutoEncoder, self).__init__(**kwargs)\n",
        "    self.original_dim = original_dim\n",
        "    self.encoder = Encoder(latent_dim=latent_dim,\n",
        "                           intermediate_dim=intermediate_dim)\n",
        "    self.decoder = Decoder(original_dim, intermediate_dim=intermediate_dim)\n",
        "\n",
        "  def call(self, inputs):\n",
        "    z_mean, z_log_var, z = self.encoder(inputs)\n",
        "    reconstructed = self.decoder(z)\n",
        "    # Add KL divergence regularization loss.\n",
        "    kl_loss = - 0.5 * tf.reduce_mean(\n",
        "        z_log_var - tf.square(z_mean) - tf.exp(z_log_var) + 1)\n",
        "    self.add_loss(kl_loss)\n",
        "    return reconstructed"
      ],
      "metadata": {
        "id": "KabEHfKOtXfh"
      },
      "execution_count": 20,
      "outputs": []
    },
    {
      "cell_type": "code",
      "source": [
        "# Our model.\n",
        "vae = VariationalAutoEncoder(original_dim=784,\n",
        "                             intermediate_dim=64,\n",
        "                             latent_dim=32)\n",
        "\n",
        "# Loss and optimizer.\n",
        "loss_fn = tf.keras.losses.MeanSquaredError()\n",
        "optimizer = tf.keras.optimizers.Adam(learning_rate=1e-3)\n",
        "\n",
        "# Prepare a dataset.\n",
        "(x_train, _), _ = tf.keras.datasets.mnist.load_data()\n",
        "dataset = tf.data.Dataset.from_tensor_slices(\n",
        "    x_train.reshape(60000, 784).astype('float32') / 255)\n",
        "dataset = dataset.shuffle(buffer_size=1024).batch(32)\n",
        "\n",
        "@tf.function\n",
        "def training_step(x):\n",
        "    with tf.GradientTape() as tape:\n",
        "        reconstructed = vae(x)  # Compute input reconstruction.\n",
        "        # Compute loss.\n",
        "        loss = loss_fn(x, reconstructed)\n",
        "        loss += sum(vae.losses)  # Add KLD term.\n",
        "    # Update the weights of the VAE.\n",
        "    grads = tape.gradient(loss, vae.trainable_weights)\n",
        "    optimizer.apply_gradients(zip(grads, vae.trainable_weights))\n",
        "    return loss\n",
        "\n",
        "losses = []  # Keep track of the losses over time.\n",
        "for step, x in enumerate(dataset):\n",
        "  loss = training_step(x)\n",
        "  # Logging.\n",
        "  losses.append(float(loss))\n",
        "  if step % 100 == 0:\n",
        "    print('Step:', step, 'Loss:', sum(losses) / len(losses))\n",
        "\n",
        "  # Stop after 1000 steps.\n",
        "  # Training the model to convergence is left\n",
        "  # as an exercise to the reader.\n",
        "  if step >= 1000:\n",
        "    break"
      ],
      "metadata": {
        "colab": {
          "base_uri": "https://localhost:8080/"
        },
        "id": "usjWTS39tY5m",
        "outputId": "18ee3c08-46e8-4efa-e2b0-74bd35b0448a"
      },
      "execution_count": 21,
      "outputs": [
        {
          "output_type": "stream",
          "name": "stdout",
          "text": [
            "Step: 0 Loss: 0.3424132168292999\n",
            "Step: 100 Loss: 0.1273319274187088\n",
            "Step: 200 Loss: 0.10046964880097564\n",
            "Step: 300 Loss: 0.09011488843498831\n",
            "Step: 400 Loss: 0.08507528772898149\n",
            "Step: 500 Loss: 0.08187877273785615\n",
            "Step: 600 Loss: 0.07943831712701753\n",
            "Step: 700 Loss: 0.07805846369534349\n",
            "Step: 800 Loss: 0.07677359389287702\n",
            "Step: 900 Loss: 0.07584411659578769\n",
            "Step: 1000 Loss: 0.07488527475715755\n"
          ]
        }
      ]
    },
    {
      "cell_type": "markdown",
      "source": [
        "As you can see, building and training this type of model in Keras is quick and painless.\n",
        "\n",
        "Now, you may find that the code above is somewhat verbose: we handle every little detail on our own, by hand. This gives the most flexibility, but it's also a bit of work.\n",
        "\n",
        "Let's take a look at what the Functional API version of our VAE looks like:"
      ],
      "metadata": {
        "id": "3s25b3t7tdnl"
      }
    },
    {
      "cell_type": "code",
      "source": [
        "original_dim = 784\n",
        "intermediate_dim = 64\n",
        "latent_dim = 32\n",
        "\n",
        "# Define encoder model.\n",
        "original_inputs = tf.keras.Input(shape=(original_dim,), name='encoder_input')\n",
        "x = layers.Dense(intermediate_dim, activation='relu')(original_inputs)\n",
        "z_mean = layers.Dense(latent_dim, name='z_mean')(x)\n",
        "z_log_var = layers.Dense(latent_dim, name='z_log_var')(x)\n",
        "z = Sampling()((z_mean, z_log_var))\n",
        "encoder = tf.keras.Model(inputs=original_inputs, outputs=z, name='encoder')\n",
        "\n",
        "# Define decoder model.\n",
        "latent_inputs = tf.keras.Input(shape=(latent_dim,), name='z_sampling')\n",
        "x = layers.Dense(intermediate_dim, activation='relu')(latent_inputs)\n",
        "outputs = layers.Dense(original_dim, activation='sigmoid')(x)\n",
        "decoder = tf.keras.Model(inputs=latent_inputs, outputs=outputs, name='decoder')\n",
        "\n",
        "# Define VAE model.\n",
        "outputs = decoder(z)\n",
        "vae = tf.keras.Model(inputs=original_inputs, outputs=outputs, name='vae')\n",
        "\n",
        "# Add KL divergence regularization loss.\n",
        "kl_loss = - 0.5 * tf.reduce_mean(\n",
        "    z_log_var - tf.square(z_mean) - tf.exp(z_log_var) + 1)\n",
        "vae.add_loss(kl_loss)"
      ],
      "metadata": {
        "id": "EPGwvdFntbXj"
      },
      "execution_count": 22,
      "outputs": []
    },
    {
      "cell_type": "code",
      "source": [
        "# Loss and optimizer.\n",
        "loss_fn = tf.keras.losses.MeanSquaredError()\n",
        "optimizer = tf.keras.optimizers.Adam(learning_rate=1e-3)\n",
        "\n",
        "# Prepare a dataset.\n",
        "(x_train, _), _ = tf.keras.datasets.mnist.load_data()\n",
        "dataset = tf.data.Dataset.from_tensor_slices(\n",
        "    x_train.reshape(60000, 784).astype('float32') / 255)\n",
        "dataset = dataset.map(lambda x: (x, x))  # Use x_train as both inputs & targets\n",
        "dataset = dataset.shuffle(buffer_size=1024).batch(32)\n",
        "\n",
        "# Configure the model for training.\n",
        "vae.compile(optimizer, loss=loss_fn)\n",
        "\n",
        "# Actually training the model.\n",
        "vae.fit(dataset, epochs=1)"
      ],
      "metadata": {
        "colab": {
          "base_uri": "https://localhost:8080/"
        },
        "id": "ZNgK6mumtfaD",
        "outputId": "6772a7c2-5aca-48f2-8a57-436e019b0ace"
      },
      "execution_count": 23,
      "outputs": [
        {
          "output_type": "stream",
          "name": "stdout",
          "text": [
            "1875/1875 [==============================] - 12s 6ms/step - loss: 0.0714\n"
          ]
        },
        {
          "output_type": "execute_result",
          "data": {
            "text/plain": [
              "<keras.callbacks.History at 0x7ff3acb20b50>"
            ]
          },
          "metadata": {},
          "execution_count": 23
        }
      ]
    },
    {
      "cell_type": "markdown",
      "source": [
        "The use of the Functional API and fit reduces our example from 65 lines to 25 lines (including model definition & training). The Keras philosophy is to offer you productivity-boosting features like these, while simultaneously empowering you to write everything yourself to gain absolute control over every little detail. Like we did in the low-level training loop two paragraphs earlier.\n",
        "\n"
      ],
      "metadata": {
        "id": "Fh099X7ntk5l"
      }
    },
    {
      "cell_type": "markdown",
      "source": [
        "End-to-end experiment example 2: hypernetworks.\n",
        "Let's take a look at another kind of research experiment: hypernetworks.\n",
        "\n",
        "A hypernetwork is a deep neural network whose weights are generated by another network (usually smaller).\n",
        "\n",
        "Let's implement a really trivial hypernetwork: we'll use a small 2-layer network to generate the weights of a larger 3-layer network."
      ],
      "metadata": {
        "id": "F7bnwDGttk1j"
      }
    },
    {
      "cell_type": "code",
      "source": [
        "import numpy as np\n",
        "\n",
        "input_dim = 784\n",
        "classes = 10\n",
        "\n",
        "# This is the model we'll actually use to predict labels (the hypernetwork).\n",
        "outer_model = keras.Sequential([\n",
        "    keras.layers.Dense(64, activation=tf.nn.relu),\n",
        "    keras.layers.Dense(classes),\n",
        "])\n",
        "\n",
        "# It doesn't need to create its own weights, so let's mark its layers\n",
        "# as already built. That way, calling `outer_model` won't create new variables.\n",
        "for layer in outer_model.layers:\n",
        "  layer.built = True\n",
        "\n",
        "# This is the number of weight coefficients to generate. Each layer in the\n",
        "# hypernetwork requires output_dim * input_dim + output_dim coefficients.\n",
        "num_weights_to_generate = (\n",
        "    classes * 64 + classes) + (64 * input_dim + 64)\n",
        "\n",
        "# This is the model that generates the weights of the `outer_model` above.\n",
        "inner_model = keras.Sequential([\n",
        "    keras.layers.Dense(16, activation=tf.nn.relu),\n",
        "    keras.layers.Dense(num_weights_to_generate, activation=tf.nn.sigmoid),\n",
        "])"
      ],
      "metadata": {
        "id": "27-daiAUtgts"
      },
      "execution_count": 24,
      "outputs": []
    },
    {
      "cell_type": "markdown",
      "source": [
        "This is our training loop. For each batch of data:\n",
        "\n",
        "We use inner_model to generate an array of weight coefficients, weights_pred\n",
        "We reshape these coefficients into kernel & bias tensors for the outer_model\n",
        "We run the forward pass of the outer_model to compute the actual MNIST predictions\n",
        "We run backprop through the weights of the inner_model to minimize the final classification loss"
      ],
      "metadata": {
        "id": "619WN-3ttr9M"
      }
    },
    {
      "cell_type": "code",
      "source": [
        "# Loss and optimizer.\n",
        "loss_fn = tf.keras.losses.SparseCategoricalCrossentropy(from_logits=True)\n",
        "optimizer = tf.keras.optimizers.Adam(learning_rate=1e-4)\n",
        "\n",
        "# Prepare a dataset.\n",
        "(x_train, y_train), _ = tf.keras.datasets.mnist.load_data()\n",
        "dataset = tf.data.Dataset.from_tensor_slices(\n",
        "    (x_train.reshape(60000, 784).astype('float32') / 255, y_train))\n",
        "\n",
        "# We'll use a batch size of 1 for this experiment.\n",
        "dataset = dataset.shuffle(buffer_size=1024).batch(1)\n",
        "\n",
        "@tf.function\n",
        "def train_step(x, y):\n",
        "  with tf.GradientTape() as tape:\n",
        "    # Predict weights for the outer model.\n",
        "    weights_pred = inner_model(x)\n",
        "\n",
        "    # Reshape them to the expected shapes for w and b for the outer model.\n",
        "    # Layer 0 kernel.\n",
        "    start_index = 0\n",
        "    w0_shape = (input_dim, 64)\n",
        "    w0_coeffs = weights_pred[:, start_index : start_index + np.prod(w0_shape)]\n",
        "    w0 = tf.reshape(w0_coeffs, w0_shape)\n",
        "    start_index += np.prod(w0_shape)\n",
        "    # Layer 0 bias.\n",
        "    b0_shape = (64,)\n",
        "    b0_coeffs = weights_pred[:, start_index : start_index + np.prod(b0_shape)]\n",
        "    b0 = tf.reshape(b0_coeffs, b0_shape)\n",
        "    start_index += np.prod(b0_shape)\n",
        "    # Layer 1 kernel.\n",
        "    w1_shape = (64, classes)\n",
        "    w1_coeffs = weights_pred[:, start_index : start_index + np.prod(w1_shape)]\n",
        "    w1 = tf.reshape(w1_coeffs, w1_shape)\n",
        "    start_index += np.prod(w1_shape)\n",
        "    # Layer 1 bias.\n",
        "    b1_shape = (classes,)\n",
        "    b1_coeffs = weights_pred[:, start_index : start_index + np.prod(b1_shape)]\n",
        "    b1 = tf.reshape(b1_coeffs, b1_shape)\n",
        "    start_index += np.prod(b1_shape)\n",
        "    \n",
        "    # Set the weight predictions as the weight variables on the outer model.\n",
        "    outer_model.layers[0].kernel = w0\n",
        "    outer_model.layers[0].bias = b0\n",
        "    outer_model.layers[1].kernel = w1\n",
        "    outer_model.layers[1].bias = b1\n",
        "    \n",
        "    # Inference on the outer model.\n",
        "    preds = outer_model(x)\n",
        "    loss = loss_fn(y, preds)\n",
        "\n",
        "  # Train only inner model.\n",
        "  grads = tape.gradient(loss, inner_model.trainable_weights)\n",
        "  optimizer.apply_gradients(zip(grads, inner_model.trainable_weights))\n",
        "  return loss\n",
        "\n",
        "losses = []  # Keep track of the losses over time.\n",
        "for step, (x, y) in enumerate(dataset):\n",
        "  loss = train_step(x, y)\n",
        "\n",
        "  # Logging.\n",
        "  losses.append(float(loss))\n",
        "  if step % 100 == 0:\n",
        "    print('Step:', step, 'Loss:', sum(losses) / len(losses))\n",
        "    \n",
        "  # Stop after 1000 steps.\n",
        "  # Training the model to convergence is left\n",
        "  # as an exercise to the reader.\n",
        "  if step >= 1000:\n",
        "    break"
      ],
      "metadata": {
        "colab": {
          "base_uri": "https://localhost:8080/"
        },
        "id": "eNgnRtPgtqAu",
        "outputId": "849cd192-6a0b-4b2f-abfc-c40d6bd520b1"
      },
      "execution_count": 25,
      "outputs": [
        {
          "output_type": "stream",
          "name": "stdout",
          "text": [
            "Step: 0 Loss: 3.311734676361084\n",
            "Step: 100 Loss: 2.4332998601516875\n",
            "Step: 200 Loss: 2.0832723497380665\n",
            "Step: 300 Loss: 2.007068470677367\n",
            "Step: 400 Loss: 1.967698998392317\n",
            "Step: 500 Loss: 1.850564668105498\n",
            "Step: 600 Loss: 1.8242317324242951\n",
            "Step: 700 Loss: 1.7584218808249523\n",
            "Step: 800 Loss: 1.7011192929033254\n",
            "Step: 900 Loss: 1.6386996718846483\n",
            "Step: 1000 Loss: 1.5933685001035651\n"
          ]
        }
      ]
    },
    {
      "cell_type": "markdown",
      "source": [
        "Implementing arbitrary research ideas with Keras is straightforward and highly productive. Imagine trying out 25 ideas per day (20 minutes per experiment on average)!\n",
        "\n",
        "Keras has been designed to go from idea to results as fast as possible, because we believe this is the key to doing great research.\n",
        "\n",
        "We hope you enjoyed this quick introduction. Let us know what you build with Keras!\n",
        "\n"
      ],
      "metadata": {
        "id": "Hr-Zyj0Ltw6z"
      }
    }
  ]
}