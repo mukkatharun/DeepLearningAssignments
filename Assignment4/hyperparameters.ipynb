{
  "nbformat": 4,
  "nbformat_minor": 0,
  "metadata": {
    "colab": {
      "name": "hyperparameters.ipynb",
      "provenance": [],
      "collapsed_sections": [],
      "authorship_tag": "ABX9TyMnBCkFKyVzJa6r2ktMDNJj",
      "include_colab_link": true
    },
    "kernelspec": {
      "name": "python3",
      "display_name": "Python 3"
    },
    "language_info": {
      "name": "python"
    }
  },
  "cells": [
    {
      "cell_type": "markdown",
      "metadata": {
        "id": "view-in-github",
        "colab_type": "text"
      },
      "source": [
        "<a href=\"https://colab.research.google.com/github/mukkatharun/DeepLearningAssignments/blob/main/Assignment4/hyperparameters.ipynb\" target=\"_parent\"><img src=\"https://colab.research.google.com/assets/colab-badge.svg\" alt=\"Open In Colab\"/></a>"
      ]
    },
    {
      "cell_type": "code",
      "execution_count": 1,
      "metadata": {
        "id": "f0k9JepcN1Ko"
      },
      "outputs": [],
      "source": [
        "import numpy as np # linear algebra\n",
        "import matplotlib.pyplot as plt\n",
        "from keras.datasets import mnist\n",
        "from keras.preprocessing.image import ImageDataGenerator\n",
        "import matplotlib.pyplot as plt\n",
        "\n",
        "import math\n",
        "%matplotlib inline"
      ]
    },
    {
      "cell_type": "code",
      "source": [
        "(x_train, y_train), (x_test, y_test) = mnist.load_data()\n"
      ],
      "metadata": {
        "colab": {
          "base_uri": "https://localhost:8080/"
        },
        "id": "MvMiA1T6RiaH",
        "outputId": "831b35df-9a72-467f-cbd6-f870a6fadeaf"
      },
      "execution_count": 2,
      "outputs": [
        {
          "output_type": "stream",
          "name": "stdout",
          "text": [
            "Downloading data from https://storage.googleapis.com/tensorflow/tf-keras-datasets/mnist.npz\n",
            "11493376/11490434 [==============================] - 0s 0us/step\n",
            "11501568/11490434 [==============================] - 0s 0us/step\n"
          ]
        }
      ]
    },
    {
      "cell_type": "code",
      "source": [
        "fig, axes = plt.subplots(2,5, figsize=(12,5))\n",
        "axes = axes.flatten()\n",
        "idx = np.random.randint(0,42000,size=10)\n",
        "for i in range(10):\n",
        "    axes[i].imshow(x_train[idx[i],:].reshape(28,28), cmap='gray')\n",
        "    axes[i].axis('off') # hide the axes ticks\n",
        "    axes[i].set_title(str(int(y_train[idx[i]])), color= 'black', fontsize=25)\n",
        "plt.show()"
      ],
      "metadata": {
        "colab": {
          "base_uri": "https://localhost:8080/",
          "height": 320
        },
        "id": "j1MWl1woRkYn",
        "outputId": "8ec6d54d-44dc-4bbd-c04b-de5a6bf943db"
      },
      "execution_count": 3,
      "outputs": [
        {
          "output_type": "display_data",
          "data": {
            "text/plain": [
              "<Figure size 864x360 with 10 Axes>"
            ],
            "image/png": "[encoded data removed]"
          },
          "metadata": {
            "needs_background": "light"
          }
        }
      ]
    },
    {
      "cell_type": "markdown",
      "source": [
        "**Data_Augmentation(To Prevent Overfitting)**"
      ],
      "metadata": {
        "id": "ASTf5-VdRr9u"
      }
    },
    {
      "cell_type": "code",
      "source": [
        "datagen = ImageDataGenerator(\n",
        "        featurewise_center=False,  # set input mean to 0 over the dataset\n",
        "        samplewise_center=False,  # set each sample mean to 0\n",
        "        featurewise_std_normalization=False,  # divide inputs by std of the dataset\n",
        "        samplewise_std_normalization=False,  # divide each input by its std\n",
        "        zca_whitening=False,  # apply ZCA whitening\n",
        "        rotation_range=10,  # randomly rotate images in the range (degrees, 0 to 180)\n",
        "        zoom_range = 0.1, # Randomly zoom image \n",
        "        width_shift_range=0.1,  # randomly shift images horizontally (fraction of total width)\n",
        "        height_shift_range=0.1,  # randomly shift images vertically (fraction of total height)\n",
        "        horizontal_flip=False,  # randomly flip images\n",
        "        vertical_flip=False)  # randomly flip images\n",
        "\n",
        "\n",
        "#datagen.fit(x_train)\n",
        "train_augmentation = datagen.flow(x_train.reshape(-1,28,28,1), y=y_train)\n",
        "\n",
        "batch_index = 0\n",
        "x_list, y_list = [], []\n",
        "while batch_index <= train_augmentation.batch_index:\n",
        "    data = train_augmentation.next()\n",
        "    x_list.append(data[0])\n",
        "    y_list.append(data[1])\n",
        "    batch_index = batch_index + 1\n",
        "x_augmentation = np.asarray(x_list).reshape(-1,28, 28)\n",
        "y_augmentation = np.asarray(y_list).reshape(-1, )"
      ],
      "metadata": {
        "id": "q1FfnUMFRm9E"
      },
      "execution_count": 4,
      "outputs": []
    },
    {
      "cell_type": "markdown",
      "source": [
        "Normalization and One hot encoding of Categorical Data"
      ],
      "metadata": {
        "id": "mV226t1KRwdp"
      }
    },
    {
      "cell_type": "code",
      "source": [
        "#images, labels = (x_train[0:1000].reshape(1000,28*28) / 255, y_train[0:1000])\n",
        "def hot_labels(labels):\n",
        "  one_hot_labels = np.zeros((len(labels),10))\n",
        "  for i,l in enumerate(labels):\n",
        "      one_hot_labels[i][l] = 1\n",
        "  return one_hot_labels\n",
        "\n",
        "\n",
        "images, labels = (x_augmentation[0:60000].reshape(60000,28*28) / 255, y_augmentation[0:60000])\n",
        "labels = hot_labels(labels)\n",
        "x, y_true = images, labels\n",
        "\n",
        "test_images = x_test.reshape(len(x_test),28*28) / 255\n",
        "test_labels = y_test\n",
        "#test_labels = np.zeros((len(y_test),10))\n",
        "test_labels = hot_labels(test_labels)\n",
        "x_test, y_test = test_images, test_labels\n",
        "print(f'images: {images.shape}, labels: {labels.shape}, test_images: {test_images.shape}, test_labels: {test_labels.shape}')"
      ],
      "metadata": {
        "colab": {
          "base_uri": "https://localhost:8080/"
        },
        "id": "mDZyOZRpRqBv",
        "outputId": "c04a8311-81bc-4926-cbfd-6d1d57b0ee99"
      },
      "execution_count": 5,
      "outputs": [
        {
          "output_type": "stream",
          "name": "stdout",
          "text": [
            "images: (60000, 784), labels: (60000, 10), test_images: (10000, 784), test_labels: (10000, 10)\n"
          ]
        }
      ]
    },
    {
      "cell_type": "markdown",
      "source": [
        "**Build Model(RELU,MSE Loss Function)**"
      ],
      "metadata": {
        "id": "gcnZIlVUR9Mn"
      }
    },
    {
      "cell_type": "code",
      "source": [
        "class Linear:\n",
        "  def __init__(self, input_dim: int, num_hidden: int =1):\n",
        "    self.weights = np.random.randn(input_dim, num_hidden) * np.sqrt(2./ input_dim)\n",
        "    self.bias = np.zeros(num_hidden)\n",
        "\n",
        "  def __call__(self, x):\n",
        "    self.x = x\n",
        "    output = x @ self.weights + self.bias\n",
        "    return output\n",
        "\n",
        "  def backward(self, gradient):\n",
        "    self.weights_gradient = self.x.T @ gradient\n",
        "    self.bias_gradient = gradient.sum(axis = 0)\n",
        "    self.x_gradient = gradient @ self.weights.T\n",
        "    return self.x_gradient\n",
        "\n",
        "  def update(self, lr):\n",
        "    self.weights = self.weights - lr * self.weights_gradient\n",
        "    self.bias = self.bias - lr * self.bias_gradient\n",
        "\n",
        "class Relu:\n",
        "  def __call__(self, input_, dropout_rate =0):\n",
        "    if dropout_rate > 0:\n",
        "      dropout_mask = np.random.binomial(1, 1-dropout_rate, size=input_.shape)\n",
        "      input_ *= dropout_mask*2\n",
        "    self.input_ = input_\n",
        "    self.output = np.clip(self.input_, 0, None)\n",
        "    return self.output\n",
        "\n",
        "  def backward(self, output_gradient):\n",
        "    self.input_gradient = (self.input_ >0) * output_gradient\n",
        "    return self.input_gradient\n",
        "\n",
        "class Model:\n",
        "  def __init__(self, input_dim, num_hidden, output_dim):\n",
        "    self.linear1 = Linear(input_dim, num_hidden)\n",
        "    self.relu1 = Relu()\n",
        "    self.relu2 = Relu()\n",
        "    self.linear2 = Linear(num_hidden, output_dim)\n",
        "\n",
        "  def __call__(self,x):\n",
        "    l1 = self.linear1(x)\n",
        "    r1 = self.relu1(l1, dropout_rate=0)\n",
        "    r2 = self.relu2(r1, dropout_rate=0.01)\n",
        "    l2 = self.linear2(r2)\n",
        "    return l2\n",
        "\n",
        "  def backward(self, output_gradient):\n",
        "    linear2_grad = self.linear2.backward(output_gradient)\n",
        "    relu2_grad = self.relu2.backward(linear2_grad)\n",
        "    relu1_grad = self.relu1.backward(relu2_grad)\n",
        "    linear1_grad = self.linear1.backward(relu1_grad)\n",
        "    return linear1_grad\n",
        "\n",
        "\n",
        "  def update(self, lr):\n",
        "    self.linear2.update(lr)\n",
        "    self.linear1.update(lr)"
      ],
      "metadata": {
        "id": "xwfLL5mCRv5j"
      },
      "execution_count": 6,
      "outputs": []
    },
    {
      "cell_type": "code",
      "source": [
        "class MSE:\n",
        "  def __call__(self, y_pred, y_true):\n",
        "    self.y_pred = y_pred\n",
        "    self.y_true = y_true\n",
        "    return ((y_pred - y_true) ** 2).mean()\n",
        "\n",
        "  def backward(self):\n",
        "    n = self.y_true.shape[0]\n",
        "    self.gradient = 2. * (self.y_pred - self.y_true) / n\n",
        "    return self.gradient"
      ],
      "metadata": {
        "id": "l3i__CnCSEEx"
      },
      "execution_count": 7,
      "outputs": []
    },
    {
      "cell_type": "code",
      "source": [
        "loss = MSE()\n",
        "nonlinear = Model(784, 200, 10)"
      ],
      "metadata": {
        "id": "Vi3PQMMSSGUP"
      },
      "execution_count": 8,
      "outputs": []
    },
    {
      "cell_type": "markdown",
      "source": [
        "**Mini_Batch_Gradient_Descent**"
      ],
      "metadata": {
        "id": "I2e5o1lESKIr"
      }
    },
    {
      "cell_type": "code",
      "source": [
        "def lr_decay(epoch):\n",
        "  return 0.01 * math.pow(0.6, epoch)"
      ],
      "metadata": {
        "id": "IWjkYLXbSIeL"
      },
      "execution_count": 9,
      "outputs": []
    },
    {
      "cell_type": "code",
      "source": [
        "from typing import Callable\n",
        "\n",
        "def fit_by_batch(x: np.ndarray, y: np.ndarray, x_test: np.ndarray, y_test: np.ndarray, model: Callable, loss: Callable, num_epochs: int, batch_size: int):\n",
        "  for epoch in range(num_epochs):\n",
        "    correct_cnt = 0\n",
        "    lr = lr_decay(epoch/100)\n",
        "    for i in range(int(len(x) / batch_size)):\n",
        "      batch_start, batch_end = ((i * batch_size), ((i+1)*batch_size))\n",
        "      x_batch = x[batch_start: batch_end]\n",
        "      y_batch = y[batch_start: batch_end]\n",
        "      y_pred_batch = model(x_batch)\n",
        "      loss_value = loss(y_pred_batch, y_batch)\n",
        "      gradient_from_loss = loss.backward()\n",
        "      model.backward(gradient_from_loss)\n",
        "      model.update(lr)\n",
        "      for k in range(batch_size):\n",
        "        correct_cnt += int(np.argmax(y_pred_batch[k:k+1]) == np.argmax(y_batch[k:k+1]))\n",
        "\n",
        "    if epoch % 100 == 0:\n",
        "      test_correct_cnt = 0\n",
        "      y_pred_test = model(x_test)\n",
        "      for k in range(len(y_test)):\n",
        "        test_correct_cnt += int(np.argmax(y_pred_test[k:k+1]) == np.argmax(y_test[k:k+1]))\n",
        "      print(f'Epoch {epoch}, lr {lr}, loss {loss_value}, correct_rate {correct_cnt/float(len(y))}, test_correct_rate {test_correct_cnt/float(len(y_test))}')"
      ],
      "metadata": {
        "id": "GhmweOtYSOx7"
      },
      "execution_count": 10,
      "outputs": []
    },
    {
      "cell_type": "markdown",
      "source": [
        "**Training the model using mini batch (Batch_Size=32)**"
      ],
      "metadata": {
        "id": "5z2Y0EB3ST-G"
      }
    },
    {
      "cell_type": "code",
      "source": [
        "fit_by_batch(x, y_true, x_test, y_test, model=nonlinear, loss=loss, num_epochs=1000, batch_size=32)"
      ],
      "metadata": {
        "colab": {
          "base_uri": "https://localhost:8080/"
        },
        "id": "GcCk8nVrSRwd",
        "outputId": "84a34903-ce4c-4419-f007-125925400d40"
      },
      "execution_count": 11,
      "outputs": [
        {
          "output_type": "stream",
          "name": "stdout",
          "text": [
            "Epoch 0, lr 0.01, loss 0.03917964186393277, correct_rate 0.6340666666666667, test_correct_rate 0.8294\n",
            "Epoch 100, lr 0.006, loss 0.01082350935468709, correct_rate 0.9569166666666666, test_correct_rate 0.9622\n",
            "Epoch 200, lr 0.0036, loss 0.008381047971593966, correct_rate 0.9658166666666667, test_correct_rate 0.9643\n",
            "Epoch 300, lr 0.0021599999999999996, loss 0.007991335251202849, correct_rate 0.9687333333333333, test_correct_rate 0.9648\n",
            "Epoch 400, lr 0.001296, loss 0.00732870361890349, correct_rate 0.9706166666666667, test_correct_rate 0.9653\n",
            "Epoch 500, lr 0.0007775999999999998, loss 0.00938152884291422, correct_rate 0.9713166666666667, test_correct_rate 0.9643\n",
            "Epoch 600, lr 0.0004665599999999999, loss 0.007843177317419122, correct_rate 0.9718333333333333, test_correct_rate 0.9635\n",
            "Epoch 700, lr 0.00027993599999999994, loss 0.006894618455130022, correct_rate 0.9723, test_correct_rate 0.9658\n",
            "Epoch 800, lr 0.00016796159999999993, loss 0.007238638451944732, correct_rate 0.9726833333333333, test_correct_rate 0.9644\n",
            "Epoch 900, lr 0.00010077695999999997, loss 0.009055749936283436, correct_rate 0.9728166666666667, test_correct_rate 0.965\n"
          ]
        }
      ]
    },
    {
      "cell_type": "markdown",
      "source": [
        "**Evaluate the Model Using Confusion Matrix**"
      ],
      "metadata": {
        "id": "dqEoREc0SabR"
      }
    },
    {
      "cell_type": "code",
      "source": [
        "from sklearn.metrics import confusion_matrix\n",
        "import itertools\n",
        "\n",
        "def plot_confusion_matrix(cm, classes,\n",
        "                          normalize=False,\n",
        "                          title='Confusion matrix',\n",
        "                          cmap=plt.cm.Blues):\n",
        "    \"\"\"\n",
        "    This function prints and plots the confusion matrix.\n",
        "    Normalization can be applied by setting `normalize=True`.\n",
        "    \"\"\"\n",
        "    plt.imshow(cm, interpolation='nearest', cmap=cmap)\n",
        "    plt.title(title)\n",
        "    plt.colorbar()\n",
        "    tick_marks = np.arange(len(classes))\n",
        "    plt.xticks(tick_marks, classes, rotation=45)\n",
        "    plt.yticks(tick_marks, classes)\n",
        "\n",
        "    if normalize:\n",
        "        cm = cm.astype('float') / cm.sum(axis=1)[:, np.newaxis]\n",
        "\n",
        "    thresh = cm.max() / 2.\n",
        "    for i, j in itertools.product(range(cm.shape[0]), range(cm.shape[1])):\n",
        "        plt.text(j, i, cm[i, j],\n",
        "                 horizontalalignment=\"center\",\n",
        "                 color=\"white\" if cm[i, j] > thresh else \"black\")\n",
        "    plt.tight_layout()\n",
        "    plt.ylabel('True label')\n",
        "    plt.xlabel('Predicted label')\n",
        "\n",
        "# Predict the values from the validation dataset\n",
        "Y_pred = nonlinear(x_test)\n",
        "# Convert predictions classes to one hot vectors \n",
        "Y_pred_classes = np.argmax(Y_pred,axis = 1) \n",
        "# Convert validation observations to one hot vectors\n",
        "Y_true = np.argmax(y_test,axis = 1) \n",
        "# compute the confusion matrix\n",
        "confusion_mtx = confusion_matrix(Y_true, Y_pred_classes) \n",
        "# plot the confusion matrix\n",
        "plot_confusion_matrix(confusion_mtx, classes = range(10))"
      ],
      "metadata": {
        "colab": {
          "base_uri": "https://localhost:8080/",
          "height": 311
        },
        "id": "7upA4i_qSXXH",
        "outputId": "3d6aa295-a60d-4076-ada4-16ae3898bb30"
      },
      "execution_count": 12,
      "outputs": [
        {
          "output_type": "display_data",
          "data": {
            "text/plain": [
              "<Figure size 432x288 with 2 Axes>"
            ],
            "image/png": "[encoded data removed]"
          },
          "metadata": {
            "needs_background": "light"
          }
        }
      ]
    },
    {
      "cell_type": "markdown",
      "source": [
        "**Display_Errors**"
      ],
      "metadata": {
        "id": "hnRS4QmeSgO1"
      }
    },
    {
      "cell_type": "code",
      "source": [
        "errors = (Y_pred_classes - Y_true != 0)\n",
        "\n",
        "Y_pred_classes_errors = Y_pred_classes[errors]\n",
        "Y_pred_errors = Y_pred[errors]\n",
        "Y_true_errors = Y_true[errors]\n",
        "X_val_errors = x_test[errors]\n",
        "\n",
        "def display_errors(errors_index,img_errors,pred_errors, obs_errors):\n",
        "    \"\"\" This function shows 6 images with their predicted and real labels\"\"\"\n",
        "    n = 0\n",
        "    nrows = 2\n",
        "    ncols = 3\n",
        "    fig, ax = plt.subplots(nrows,ncols,sharex=True,sharey=True)\n",
        "    for row in range(nrows):\n",
        "        for col in range(ncols):\n",
        "            error = errors_index[n]\n",
        "            ax[row,col].imshow((img_errors[error]).reshape((28,28)))\n",
        "            ax[row,col].set_title(\"Predicted label :{}\\nTrue label :{}\".format(pred_errors[error],obs_errors[error]))\n",
        "            n += 1\n",
        "\n",
        "# Probabilities of the wrong predicted numbers\n",
        "Y_pred_errors_prob = np.max(Y_pred_errors,axis = 1)\n",
        "\n",
        "# Predicted probabilities of the true values in the error set\n",
        "true_prob_errors = np.diagonal(np.take(Y_pred_errors, Y_true_errors, axis=1))\n",
        "\n",
        "# Difference between the probability of the predicted label and the true label\n",
        "delta_pred_true_errors = Y_pred_errors_prob - true_prob_errors\n",
        "\n",
        "# Sorted list of the delta prob errors\n",
        "sorted_dela_errors = np.argsort(delta_pred_true_errors)\n",
        "\n",
        "# Top 6 errors \n",
        "most_important_errors = sorted_dela_errors[-6:]\n",
        "\n",
        "# Show the top 6 errors\n",
        "display_errors(most_important_errors, X_val_errors, Y_pred_classes_errors, Y_true_errors)"
      ],
      "metadata": {
        "colab": {
          "base_uri": "https://localhost:8080/",
          "height": 296
        },
        "id": "5BfrSM1tSefG",
        "outputId": "010faaf5-dde8-4f65-a73a-9235c07e30a9"
      },
      "execution_count": 13,
      "outputs": [
        {
          "output_type": "display_data",
          "data": {
            "text/plain": [
              "<Figure size 432x288 with 6 Axes>"
            ],
            "image/png": "[encoded data removed]"
          },
          "metadata": {
            "needs_background": "light"
          }
        }
      ]
    },
    {
      "cell_type": "code",
      "source": [
        ""
      ],
      "metadata": {
        "id": "Y8cPKKc3SkQm"
      },
      "execution_count": null,
      "outputs": []
    }
  ]
}